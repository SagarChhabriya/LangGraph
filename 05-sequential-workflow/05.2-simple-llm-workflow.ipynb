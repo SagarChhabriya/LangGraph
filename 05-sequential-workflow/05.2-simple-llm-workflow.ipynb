{
 "cells": [
  {
   "cell_type": "code",
   "execution_count": 2,
   "id": "d0edefa9",
   "metadata": {},
   "outputs": [],
   "source": [
    "from langgraph.graph import StateGraph, START, END\n",
    "from langchain_google_genai import GoogleGenerativeAI\n",
    "from typing import TypedDict\n",
    "from dotenv import load_dotenv"
   ]
  },
  {
   "cell_type": "code",
   "execution_count": 3,
   "id": "5f617315",
   "metadata": {},
   "outputs": [
    {
     "data": {
      "text/plain": [
       "True"
      ]
     },
     "execution_count": 3,
     "metadata": {},
     "output_type": "execute_result"
    }
   ],
   "source": [
    "load_dotenv()"
   ]
  },
  {
   "cell_type": "code",
   "execution_count": 6,
   "id": "c2d7c004",
   "metadata": {},
   "outputs": [],
   "source": [
    "model = GoogleGenerativeAI(model=\"gemini-2.5-flash\")"
   ]
  },
  {
   "cell_type": "code",
   "execution_count": 4,
   "id": "65091da4",
   "metadata": {},
   "outputs": [],
   "source": [
    "# create a state\n",
    "\n",
    "class LLMState(TypedDict):\n",
    "\n",
    "    question: str\n",
    "    answer: str"
   ]
  },
  {
   "cell_type": "code",
   "execution_count": 10,
   "id": "2ae98441",
   "metadata": {},
   "outputs": [],
   "source": [
    "def llm_qa(state: LLMState) -> LLMState:\n",
    "\n",
    "    # extract the question from state\n",
    "    question = state['question']\n",
    "\n",
    "    # form a prompt\n",
    "    prompt = f'Answer the following question {question}'\n",
    "\n",
    "    # ask that question to the LLM\n",
    "    answer = model.invoke(prompt)\n",
    "\n",
    "    # update the answer in the state\n",
    "    state['answer'] = answer\n",
    "\n",
    "    return state"
   ]
  },
  {
   "cell_type": "code",
   "execution_count": 11,
   "id": "90de2e95",
   "metadata": {},
   "outputs": [],
   "source": [
    "# create our graph\n",
    "\n",
    "graph = StateGraph(LLMState)\n",
    "\n",
    "# add nodes\n",
    "graph.add_node('llm_qa', llm_qa)\n",
    "\n",
    "# add edges\n",
    "graph.add_edge(START, 'llm_qa')\n",
    "graph.add_edge('llm_qa', END)\n",
    "\n",
    "# compile\n",
    "workflow = graph.compile()"
   ]
  },
  {
   "cell_type": "code",
   "execution_count": 12,
   "id": "aa8efb7c",
   "metadata": {},
   "outputs": [
    {
     "name": "stdout",
     "output_type": "stream",
     "text": [
      "The distance from the Moon to the Earth is not constant because the Moon orbits the Earth in an ellipse, not a perfect circle.\n",
      "\n",
      "However, the **average distance** is approximately:\n",
      "\n",
      "*   **384,400 kilometers (km)**\n",
      "*   **238,900 miles**\n",
      "\n",
      "The distance can vary:\n",
      "\n",
      "*   **At its closest (perigee):** about 363,104 km (225,623 miles)\n",
      "*   **At its farthest (apogee):** about 405,696 km (252,088 miles)\n"
     ]
    }
   ],
   "source": [
    "# execute\n",
    "\n",
    "intial_state = {'question': 'How far is moon from the earth?'}\n",
    "\n",
    "final_state = workflow.invoke(intial_state)\n",
    "\n",
    "print(final_state['answer'])"
   ]
  },
  {
   "cell_type": "code",
   "execution_count": 13,
   "id": "1e4a7ec8",
   "metadata": {},
   "outputs": [
    {
     "data": {
      "text/plain": [
       "\"The distance between the Earth and the Moon isn't constant because the Moon's orbit around Earth is elliptical, not a perfect circle.\\n\\nHowever, here are the approximate distances:\\n\\n*   **Average distance:** Approximately **384,400 kilometers (238,900 miles)**\\n*   **At its closest point (perigee):** About **363,104 kilometers (225,623 miles)**\\n*   **At its furthest point (apogee):** About **405,696 kilometers (252,088 miles)**\""
      ]
     },
     "execution_count": 13,
     "metadata": {},
     "output_type": "execute_result"
    }
   ],
   "source": [
    "# Alternative\n",
    "\n",
    "model.invoke('How far is moon from the earth?')\n",
    "\n",
    "# But our objective is to get hands dirty with langgraph"
   ]
  },
  {
   "cell_type": "code",
   "execution_count": 14,
   "id": "16693b0f",
   "metadata": {},
   "outputs": [],
   "source": [
    "# End of Notebook"
   ]
  }
 ],
 "metadata": {
  "kernelspec": {
   "display_name": "venv",
   "language": "python",
   "name": "python3"
  },
  "language_info": {
   "codemirror_mode": {
    "name": "ipython",
    "version": 3
   },
   "file_extension": ".py",
   "mimetype": "text/x-python",
   "name": "python",
   "nbconvert_exporter": "python",
   "pygments_lexer": "ipython3",
   "version": "3.12.0"
  }
 },
 "nbformat": 4,
 "nbformat_minor": 5
}
